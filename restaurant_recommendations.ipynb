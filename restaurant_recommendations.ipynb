{
 "cells": [
  {
   "cell_type": "code",
   "execution_count": 1,
   "metadata": {},
   "outputs": [],
   "source": [
    "import pandas as pd\n",
    "from sklearn.preprocessing import LabelEncoder\n",
    "from sklearn.metrics.pairwise import cosine_similarity\n",
    "import numpy as np"
   ]
  },
  {
   "cell_type": "code",
   "execution_count": 2,
   "metadata": {},
   "outputs": [],
   "source": [
    "data = pd.read_csv('Dataset.csv')"
   ]
  },
  {
   "cell_type": "code",
   "execution_count": 3,
   "metadata": {},
   "outputs": [
    {
     "name": "stdout",
     "output_type": "stream",
     "text": [
      "   Restaurant ID         Restaurant Name  Country Code              City  \\\n",
      "0        6317637        Le Petit Souffle           162       Makati City   \n",
      "1        6304287        Izakaya Kikufuji           162       Makati City   \n",
      "2        6300002  Heat - Edsa Shangri-La           162  Mandaluyong City   \n",
      "3        6318506                    Ooma           162  Mandaluyong City   \n",
      "4        6314302             Sambo Kojin           162  Mandaluyong City   \n",
      "\n",
      "                                             Address  \\\n",
      "0  Third Floor, Century City Mall, Kalayaan Avenu...   \n",
      "1  Little Tokyo, 2277 Chino Roces Avenue, Legaspi...   \n",
      "2  Edsa Shangri-La, 1 Garden Way, Ortigas, Mandal...   \n",
      "3  Third Floor, Mega Fashion Hall, SM Megamall, O...   \n",
      "4  Third Floor, Mega Atrium, SM Megamall, Ortigas...   \n",
      "\n",
      "                                     Locality  \\\n",
      "0   Century City Mall, Poblacion, Makati City   \n",
      "1  Little Tokyo, Legaspi Village, Makati City   \n",
      "2  Edsa Shangri-La, Ortigas, Mandaluyong City   \n",
      "3      SM Megamall, Ortigas, Mandaluyong City   \n",
      "4      SM Megamall, Ortigas, Mandaluyong City   \n",
      "\n",
      "                                    Locality Verbose   Longitude   Latitude  \\\n",
      "0  Century City Mall, Poblacion, Makati City, Mak...  121.027535  14.565443   \n",
      "1  Little Tokyo, Legaspi Village, Makati City, Ma...  121.014101  14.553708   \n",
      "2  Edsa Shangri-La, Ortigas, Mandaluyong City, Ma...  121.056831  14.581404   \n",
      "3  SM Megamall, Ortigas, Mandaluyong City, Mandal...  121.056475  14.585318   \n",
      "4  SM Megamall, Ortigas, Mandaluyong City, Mandal...  121.057508  14.584450   \n",
      "\n",
      "                           Cuisines  ...          Currency Has Table booking  \\\n",
      "0        French, Japanese, Desserts  ...  Botswana Pula(P)               Yes   \n",
      "1                          Japanese  ...  Botswana Pula(P)               Yes   \n",
      "2  Seafood, Asian, Filipino, Indian  ...  Botswana Pula(P)               Yes   \n",
      "3                   Japanese, Sushi  ...  Botswana Pula(P)                No   \n",
      "4                  Japanese, Korean  ...  Botswana Pula(P)               Yes   \n",
      "\n",
      "  Has Online delivery Is delivering now Switch to order menu Price range  \\\n",
      "0                  No                No                   No           3   \n",
      "1                  No                No                   No           3   \n",
      "2                  No                No                   No           4   \n",
      "3                  No                No                   No           4   \n",
      "4                  No                No                   No           4   \n",
      "\n",
      "   Aggregate rating  Rating color Rating text Votes  \n",
      "0               4.8    Dark Green   Excellent   314  \n",
      "1               4.5    Dark Green   Excellent   591  \n",
      "2               4.4         Green   Very Good   270  \n",
      "3               4.9    Dark Green   Excellent   365  \n",
      "4               4.8    Dark Green   Excellent   229  \n",
      "\n",
      "[5 rows x 21 columns]\n"
     ]
    }
   ],
   "source": [
    "print(data.head())"
   ]
  },
  {
   "cell_type": "code",
   "execution_count": 4,
   "metadata": {},
   "outputs": [],
   "source": [
    "data = data.dropna()"
   ]
  },
  {
   "cell_type": "code",
   "execution_count": 5,
   "metadata": {},
   "outputs": [],
   "source": [
    "label_encoders = {}\n",
    "categorical_columns = ['Restaurant Name', 'City', 'Locality', 'Locality Verbose', 'Currency', 'Has Table booking', 'Has Online delivery', 'Is delivering now', 'Switch to order menu', 'Rating color', 'Rating text']\n",
    "for col in categorical_columns:\n",
    "    le = LabelEncoder()\n",
    "    data[col] = le.fit_transform(data[col])\n",
    "    label_encoders[col] = le"
   ]
  },
  {
   "cell_type": "code",
   "execution_count": 6,
   "metadata": {},
   "outputs": [],
   "source": [
    "data['Cuisines'] = data['Cuisines'].apply(lambda x: x.split(', '))"
   ]
  },
  {
   "cell_type": "code",
   "execution_count": 7,
   "metadata": {},
   "outputs": [],
   "source": [
    "cuisines = data['Cuisines'].apply(pd.Series).stack().reset_index(level=1, drop=True).to_frame('Cuisine')\n",
    "cuisines_dummies = pd.get_dummies(cuisines['Cuisine']).groupby(level=0).sum()"
   ]
  },
  {
   "cell_type": "code",
   "execution_count": 13,
   "metadata": {},
   "outputs": [],
   "source": [
    "data = data.drop(['Cuisines'], axis=1).join(cuisines_dummies)"
   ]
  },
  {
   "cell_type": "code",
   "execution_count": 14,
   "metadata": {},
   "outputs": [],
   "source": [
    "# Select relevant features for recommendation\n",
    "features = ['Price range', 'City', 'Average Cost for two'] + list(cuisines_dummies.columns)\n",
    "feature_data = data[features]"
   ]
  },
  {
   "cell_type": "code",
   "execution_count": 15,
   "metadata": {},
   "outputs": [],
   "source": [
    "# Define a function to recommend restaurants based on user preferences\n",
    "def recommend_restaurants(user_preferences, feature_data, top_n=5):\n",
    "    user_preferences_df = pd.DataFrame([user_preferences])\n",
    "    user_preferences_encoded = pd.get_dummies(user_preferences_df)\n",
    "\n",
    "    # Ensure the same columns in the user preferences and feature data\n",
    "    user_preferences_encoded = user_preferences_encoded.reindex(columns=feature_data.columns, fill_value=0)\n",
    "\n",
    "    # Calculate cosine similarity\n",
    "    similarities = cosine_similarity(user_preferences_encoded, feature_data)\n",
    "    similarities = similarities.flatten()\n",
    "\n",
    "    # Get the top N recommendations\n",
    "    recommendations = np.argsort(similarities)[-top_n:][::-1]\n",
    "    recommended_restaurants = data.iloc[recommendations]\n",
    "\n",
    "    return recommended_restaurants"
   ]
  },
  {
   "cell_type": "code",
   "execution_count": 16,
   "metadata": {},
   "outputs": [],
   "source": [
    "# Define sample user preferences\n",
    "user_preferences = {\n",
    "    'Price range': 3,\n",
    "    'City': label_encoders['City'].transform(['Makati City'])[0],\n",
    "    'Average Cost for two': 1000\n",
    "}"
   ]
  },
  {
   "cell_type": "code",
   "execution_count": 17,
   "metadata": {},
   "outputs": [],
   "source": [
    "# Convert the cuisines to the one-hot encoding format expected\n",
    "preferred_cuisines = ['Japanese']\n",
    "user_preferences = {**user_preferences, **{cuisine: 1 for cuisine in preferred_cuisines}}"
   ]
  },
  {
   "cell_type": "code",
   "execution_count": 18,
   "metadata": {},
   "outputs": [],
   "source": [
    "# Get recommendations\n",
    "recommended_restaurants = recommend_restaurants(user_preferences, feature_data, top_n=5)"
   ]
  },
  {
   "cell_type": "code",
   "execution_count": 19,
   "metadata": {},
   "outputs": [
    {
     "name": "stderr",
     "output_type": "stream",
     "text": [
      "/var/folders/8m/wnjwg0rs74g36dj27lwhh0vr0000gn/T/ipykernel_4726/3265559816.py:2: SettingWithCopyWarning: \n",
      "A value is trying to be set on a copy of a slice from a DataFrame.\n",
      "Try using .loc[row_indexer,col_indexer] = value instead\n",
      "\n",
      "See the caveats in the documentation: https://pandas.pydata.org/pandas-docs/stable/user_guide/indexing.html#returning-a-view-versus-a-copy\n",
      "  recommended_restaurants['City'] = label_encoders['City'].inverse_transform(recommended_restaurants['City'])\n",
      "/var/folders/8m/wnjwg0rs74g36dj27lwhh0vr0000gn/T/ipykernel_4726/3265559816.py:3: SettingWithCopyWarning: \n",
      "A value is trying to be set on a copy of a slice from a DataFrame.\n",
      "Try using .loc[row_indexer,col_indexer] = value instead\n",
      "\n",
      "See the caveats in the documentation: https://pandas.pydata.org/pandas-docs/stable/user_guide/indexing.html#returning-a-view-versus-a-copy\n",
      "  recommended_restaurants['Restaurant Name'] = label_encoders['Restaurant Name'].inverse_transform(recommended_restaurants['Restaurant Name'])\n"
     ]
    }
   ],
   "source": [
    "# Decode the City and Restaurant Name columns for display\n",
    "recommended_restaurants['City'] = label_encoders['City'].inverse_transform(recommended_restaurants['City'])\n",
    "recommended_restaurants['Restaurant Name'] = label_encoders['Restaurant Name'].inverse_transform(recommended_restaurants['Restaurant Name'])"
   ]
  },
  {
   "cell_type": "code",
   "execution_count": 20,
   "metadata": {},
   "outputs": [
    {
     "name": "stdout",
     "output_type": "stream",
     "text": [
      "Recommended Restaurants:\n",
      "              Restaurant Name  Price range       City  Average Cost for two  \\\n",
      "8102  Aim Cafe And Restaurant            3      Noida                  1200   \n",
      "3184                 Aka Saka            3  New Delhi                  1200   \n",
      "6139                  Ichiban            3  New Delhi                  1200   \n",
      "3238            Moets Oh! Bao            3  New Delhi                  1200   \n",
      "9083         Ristorante Prego            3      Noida                  1200   \n",
      "\n",
      "      Aggregate rating  \n",
      "8102               3.3  \n",
      "3184               3.3  \n",
      "6139               3.9  \n",
      "3238               3.6  \n",
      "9083               3.1  \n"
     ]
    }
   ],
   "source": [
    "# Display recommendations\n",
    "print(\"Recommended Restaurants:\")\n",
    "print(recommended_restaurants[['Restaurant Name', 'Price range', 'City', 'Average Cost for two', 'Aggregate rating']])"
   ]
  }
 ],
 "metadata": {
  "kernelspec": {
   "display_name": "Python 3",
   "language": "python",
   "name": "python3"
  },
  "language_info": {
   "codemirror_mode": {
    "name": "ipython",
    "version": 3
   },
   "file_extension": ".py",
   "mimetype": "text/x-python",
   "name": "python",
   "nbconvert_exporter": "python",
   "pygments_lexer": "ipython3",
   "version": "3.12.3"
  }
 },
 "nbformat": 4,
 "nbformat_minor": 2
}
